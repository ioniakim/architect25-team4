{
 "cells": [
  {
   "cell_type": "code",
   "execution_count": 2,
   "metadata": {},
   "outputs": [],
   "source": [
    "from langchain_core.tools import tool\n",
    "from langchain_google_genai import ChatGoogleGenerativeAI # Changed import\n",
    "from langchain import agents\n",
    "from langchain_core.prompts import ChatPromptTemplate\n",
    "from langchain_core.messages import HumanMessage, AIMessage\n",
    "import os # Import os to check for API key"
   ]
  },
  {
   "cell_type": "code",
   "execution_count": 4,
   "metadata": {},
   "outputs": [],
   "source": [
    "@tool\n",
    "def get_current_weather(location: str) -> str:\n",
    "    \"\"\"Get the current weather in a given location.\"\"\"\n",
    "    # In a real application, this would call a weather API.\n",
    "    # For demonstration, we'll return a mock response based on current location and given example\n",
    "    if \"Seoul\" in location:\n",
    "        return \"It's 25 degrees Celsius and sunny in Seoul.\" # Current weather for Seoul\n",
    "    elif \"New York\" in location:\n",
    "        return \"It's 18 degrees Celsius and cloudy in New York.\"\n",
    "    else:\n",
    "        return f\"Weather data not available for {location}.\"\n"
   ]
  },
  {
   "cell_type": "code",
   "execution_count": 5,
   "metadata": {},
   "outputs": [],
   "source": [
    "@tool\n",
    "def calculate_area_of_rectangle(length: float, width: float) -> float:\n",
    "    \"\"\"Calculate the area of a rectangle given its length and width.\"\"\"\n",
    "    return length * width"
   ]
  },
  {
   "cell_type": "code",
   "execution_count": 6,
   "metadata": {},
   "outputs": [],
   "source": [
    "@tool\n",
    "def search_web(query: str) -> str:\n",
    "    \"\"\"Search the web for a given query.\"\"\"\n",
    "    # In a real application, this would use a search API like Google Search.\n",
    "    # For demonstration, we'll return a mock response.\n",
    "    if \"latest AI news\" in query:\n",
    "        return \"Google I/O 2024 announcements: Gemini 1.5 Flash, Project Astra, and more.\"\n",
    "    else:\n",
    "        return f\"Search results for '{query}': No specific information found.\""
   ]
  },
  {
   "cell_type": "code",
   "execution_count": 7,
   "metadata": {},
   "outputs": [],
   "source": [
    "# Create a list of your tools\n",
    "tools = [get_current_weather, calculate_area_of_rectangle, search_web]"
   ]
  },
  {
   "cell_type": "code",
   "execution_count": 16,
   "metadata": {},
   "outputs": [],
   "source": [
    "# 2. Choose an LLM that supports tool calling (CHANGED TO GEMINI)\n",
    "# Make sure you have your GOOGLE_API_KEY set as an environment variable\n",
    "llm = ChatGoogleGenerativeAI(model=\"gemini-2.0-flash\", temperature=0) # Changed to Gemini\n"
   ]
  },
  {
   "cell_type": "code",
   "execution_count": 17,
   "metadata": {},
   "outputs": [],
   "source": [
    "# 3. Create an Agent with these tools\n",
    "\n",
    "# The prompt remains the same for creating a tool-calling agent.\n",
    "prompt = ChatPromptTemplate.from_messages([\n",
    "    (\"system\", \"You are a helpful AI assistant. You have access to various tools to assist with tasks.\"), # Simplified system message\n",
    "    AIMessage(content=\"I'm here to help! What can I do for you?\"),\n",
    "    (\"placeholder\", \"{chat_history}\"),\n",
    "    (\"human\", \"{input}\"),\n",
    "    (\"placeholder\", \"{agent_scratchpad}\")\n",
    "])\n",
    "\n",
    "agent = agents.create_tool_calling_agent(llm, tools, prompt)"
   ]
  },
  {
   "cell_type": "code",
   "execution_count": 18,
   "metadata": {},
   "outputs": [],
   "source": [
    "# 4. Create an AgentExecutor\n",
    "agent_executor = agents.AgentExecutor(agent=agent, tools=tools, verbose=True)\n"
   ]
  },
  {
   "cell_type": "code",
   "execution_count": 22,
   "metadata": {},
   "outputs": [
    {
     "name": "stdout",
     "output_type": "stream",
     "text": [
      "--- Agent Interaction 1: Weather ---\n",
      "\n",
      "\n",
      "\u001b[1m> Entering new AgentExecutor chain...\u001b[0m\n",
      "\u001b[32;1m\u001b[1;3m\n",
      "Invoking: `get_current_weather` with `{'location': 'Seoul'}`\n",
      "\n",
      "\n",
      "\u001b[0m\u001b[36;1m\u001b[1;3mIt's 25 degrees Celsius and sunny in Seoul.\u001b[0m\u001b[32;1m\u001b[1;3mIt's 25 degrees Celsius and sunny in Seoul.\n",
      "\u001b[0m\n",
      "\n",
      "\u001b[1m> Finished chain.\u001b[0m\n",
      "It's 25 degrees Celsius and sunny in Seoul.\n",
      "\n",
      "\n",
      "--- Agent Interaction 2: Calculation ---\n",
      "\n",
      "\n",
      "\u001b[1m> Entering new AgentExecutor chain...\u001b[0m\n",
      "\u001b[32;1m\u001b[1;3m\n",
      "Invoking: `calculate_area_of_rectangle` with `{'length': 10.5, 'width': 5.0}`\n",
      "\n",
      "\n",
      "\u001b[0m\u001b[33;1m\u001b[1;3m52.5\u001b[0m\u001b[32;1m\u001b[1;3mThe area of the rectangle is 52.5.\n",
      "\u001b[0m\n",
      "\n",
      "\u001b[1m> Finished chain.\u001b[0m\n",
      "The area of the rectangle is 52.5.\n",
      "\n",
      "\n",
      "--- Agent Interaction 3: Web Search ---\n",
      "\n",
      "\n",
      "\u001b[1m> Entering new AgentExecutor chain...\u001b[0m\n",
      "\u001b[32;1m\u001b[1;3m\n",
      "Invoking: `search_web` with `{'query': 'latest AI news'}`\n",
      "\n",
      "\n",
      "\u001b[0m\u001b[38;5;200m\u001b[1;3mGoogle I/O 2024 announcements: Gemini 1.5 Flash, Project Astra, and more.\u001b[0m\u001b[32;1m\u001b[1;3mOK. The latest AI news is about Google I/O 2024 announcements: Gemini 1.5 Flash, Project Astra, and more.\n",
      "\u001b[0m\n",
      "\n",
      "\u001b[1m> Finished chain.\u001b[0m\n",
      "OK. The latest AI news is about Google I/O 2024 announcements: Gemini 1.5 Flash, Project Astra, and more.\n",
      "\n",
      "\n",
      "--- Agent Interaction 4: Multi-step/Combined ---\n",
      "\n",
      "\n",
      "\u001b[1m> Entering new AgentExecutor chain...\u001b[0m\n",
      "\u001b[32;1m\u001b[1;3m\n",
      "Invoking: `get_current_weather` with `{'location': 'New York'}`\n",
      "\n",
      "\n",
      "\u001b[0m\u001b[36;1m\u001b[1;3mIt's 18 degrees Celsius and cloudy in New York.\u001b[0m\u001b[32;1m\u001b[1;3mIt's 18 degrees Celsius and cloudy in New York. Also, 12 multiplied by 8 is 96.\n",
      "\u001b[0m\n",
      "\n",
      "\u001b[1m> Finished chain.\u001b[0m\n",
      "It's 18 degrees Celsius and cloudy in New York. Also, 12 multiplied by 8 is 96.\n",
      "\n",
      "\n",
      "--- Agent Interaction 5: Complex task ---\n",
      "\n",
      "\n",
      "\u001b[1m> Entering new AgentExecutor chain...\u001b[0m\n",
      "\u001b[32;1m\u001b[1;3mI need to know the current temperature in New York before I can calculate that. Could you please tell me the current temperature in New York? If you don't know it, I can try to get it for you.\n",
      "\u001b[0m\n",
      "\n",
      "\u001b[1m> Finished chain.\u001b[0m\n",
      "I need to know the current temperature in New York before I can calculate that. Could you please tell me the current temperature in New York? If you don't know it, I can try to get it for you.\n",
      "\n"
     ]
    }
   ],
   "source": [
    "# 5. Interact with the Agent\n",
    "\n",
    "print(\"--- Agent Interaction 1: Weather ---\")\n",
    "response1 = agent_executor.invoke({\"input\": \"What's the weather like in Seoul?\"})\n",
    "print(response1[\"output\"])\n",
    "\n",
    "print(\"\\n--- Agent Interaction 2: Calculation ---\")\n",
    "response2 = agent_executor.invoke({\"input\": \"What is the area of a rectangle with length 10.5 and width 5?\"})\n",
    "print(response2[\"output\"])\n",
    "\n",
    "print(\"\\n--- Agent Interaction 3: Web Search ---\")\n",
    "response3 = agent_executor.invoke({\"input\": \"Can you find out what the latest AI news is?\"})\n",
    "print(response3[\"output\"])\n",
    "\n",
    "print(\"\\n--- Agent Interaction 4: Multi-step/Combined ---\")\n",
    "response4 = agent_executor.invoke({\"input\": \"What's the weather in New York and what's 12 multiplied by 8?\"})\n",
    "print(response4[\"output\"])\n",
    "\n",
    "print(\"\\n--- Agent Interaction 5: Complex task ---\")\n",
    "response4 = agent_executor.invoke({\"input\": \"What's 2 times the temperature in New York?\"})\n",
    "print(response4[\"output\"])"
   ]
  },
  {
   "cell_type": "code",
   "execution_count": null,
   "metadata": {},
   "outputs": [],
   "source": []
  }
 ],
 "metadata": {
  "kernelspec": {
   "display_name": ".venv",
   "language": "python",
   "name": "python3"
  },
  "language_info": {
   "codemirror_mode": {
    "name": "ipython",
    "version": 3
   },
   "file_extension": ".py",
   "mimetype": "text/x-python",
   "name": "python",
   "nbconvert_exporter": "python",
   "pygments_lexer": "ipython3",
   "version": "3.12.3"
  }
 },
 "nbformat": 4,
 "nbformat_minor": 2
}
